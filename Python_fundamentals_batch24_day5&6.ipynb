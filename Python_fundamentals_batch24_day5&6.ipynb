{
 "cells": [
  {
   "cell_type": "code",
   "execution_count": 1,
   "metadata": {},
   "outputs": [],
   "source": [
    "#continuation of for loop"
   ]
  },
  {
   "cell_type": "code",
   "execution_count": 2,
   "metadata": {},
   "outputs": [],
   "source": [
    "#syntax\n",
    "#for tempvar in mainvar:\n",
    "#    print(tempvar)"
   ]
  },
  {
   "cell_type": "code",
   "execution_count": 3,
   "metadata": {},
   "outputs": [],
   "source": [
    "students=['vinay','manoj','nikhil','venky','prashanth','digamber']"
   ]
  },
  {
   "cell_type": "code",
   "execution_count": 4,
   "metadata": {},
   "outputs": [
    {
     "name": "stdout",
     "output_type": "stream",
     "text": [
      "['vinay', 'manoj', 'nikhil', 'venky', 'prashanth', 'digamber']\n"
     ]
    }
   ],
   "source": [
    "print(students)"
   ]
  },
  {
   "cell_type": "code",
   "execution_count": 5,
   "metadata": {},
   "outputs": [
    {
     "name": "stdout",
     "output_type": "stream",
     "text": [
      "keep up good work,vinay\n",
      "keep up good work,manoj\n",
      "keep up good work,nikhil\n",
      "keep up good work,venky\n",
      "keep up good work,prashanth\n",
      "keep up good work,digamber\n"
     ]
    }
   ],
   "source": [
    "for stud in students:\n",
    "    print(f\"keep up good work,{stud}\")"
   ]
  },
  {
   "cell_type": "code",
   "execution_count": 6,
   "metadata": {},
   "outputs": [
    {
     "name": "stdout",
     "output_type": "stream",
     "text": [
      "keep up good work,vinay\n",
      "thank you for ypur hard work\n",
      "keep up good work,manoj\n",
      "thank you for ypur hard work\n",
      "keep up good work,nikhil\n",
      "thank you for ypur hard work\n",
      "keep up good work,venky\n",
      "thank you for ypur hard work\n",
      "keep up good work,prashanth\n",
      "thank you for ypur hard work\n",
      "keep up good work,digamber\n",
      "thank you for ypur hard work\n"
     ]
    }
   ],
   "source": [
    "for x in students:\n",
    "    print(f\"keep up good work,{x}\")\n",
    "    print('thank you for ypur hard work')"
   ]
  },
  {
   "cell_type": "code",
   "execution_count": 8,
   "metadata": {},
   "outputs": [
    {
     "name": "stdout",
     "output_type": "stream",
     "text": [
      "pending notes by vinay\n",
      "do practice session regularly\n",
      "pending notes by manoj\n",
      "do practice session regularly\n",
      "pending notes by nikhil\n",
      "do practice session regularly\n",
      "pending notes by venky\n",
      "do practice session regularly\n",
      "pending notes by prashanth\n",
      "do practice session regularly\n",
      "pending notes by digamber\n",
      "do practice session regularly\n",
      "hard work is key to success\n"
     ]
    }
   ],
   "source": [
    "for y in students:\n",
    "    print(f\"pending notes by {y}\")\n",
    "    print('do practice session regularly')\n",
    "print('hard work is key to success')\n",
    "          "
   ]
  },
  {
   "cell_type": "code",
   "execution_count": 9,
   "metadata": {},
   "outputs": [],
   "source": [
    "#Organizing list datatype"
   ]
  },
  {
   "cell_type": "code",
   "execution_count": 12,
   "metadata": {},
   "outputs": [
    {
     "name": "stdout",
     "output_type": "stream",
     "text": [
      "['digamber', 'manoj', 'nikhil', 'prashanth', 'venky', 'vinay']\n"
     ]
    }
   ],
   "source": [
    "#arranging list in alphabetic order\n",
    "print(sorted(students))  # sorted function is sorting list in temporary way"
   ]
  },
  {
   "cell_type": "code",
   "execution_count": 13,
   "metadata": {},
   "outputs": [
    {
     "name": "stdout",
     "output_type": "stream",
     "text": [
      "['vinay', 'manoj', 'nikhil', 'venky', 'prashanth', 'digamber']\n"
     ]
    }
   ],
   "source": [
    "print(students)"
   ]
  },
  {
   "cell_type": "code",
   "execution_count": 14,
   "metadata": {},
   "outputs": [
    {
     "name": "stdout",
     "output_type": "stream",
     "text": [
      "['digamber', 'manoj', 'nikhil', 'prashanth', 'venky', 'vinay']\n"
     ]
    }
   ],
   "source": [
    "students.sort() #permanent way of sorting\n",
    "print(students)"
   ]
  },
  {
   "cell_type": "code",
   "execution_count": 15,
   "metadata": {},
   "outputs": [
    {
     "data": {
      "text/plain": [
       "6"
      ]
     },
     "execution_count": 15,
     "metadata": {},
     "output_type": "execute_result"
    }
   ],
   "source": [
    "#how to cout number of elements in list\n",
    "len(students)"
   ]
  },
  {
   "cell_type": "code",
   "execution_count": 16,
   "metadata": {},
   "outputs": [
    {
     "name": "stdout",
     "output_type": "stream",
     "text": [
      "None\n"
     ]
    }
   ],
   "source": [
    "#reverse order of list\n",
    "print(students.reverse()) "
   ]
  },
  {
   "cell_type": "code",
   "execution_count": 19,
   "metadata": {},
   "outputs": [],
   "source": [
    "students.reverse()"
   ]
  },
  {
   "cell_type": "code",
   "execution_count": 20,
   "metadata": {},
   "outputs": [
    {
     "name": "stdout",
     "output_type": "stream",
     "text": [
      "['vinay', 'venky', 'prashanth', 'nikhil', 'manoj', 'digamber']\n"
     ]
    }
   ],
   "source": [
    "print(students)"
   ]
  },
  {
   "cell_type": "code",
   "execution_count": null,
   "metadata": {},
   "outputs": [],
   "source": [
    "# can you explain line16 & line18?????"
   ]
  },
  {
   "cell_type": "code",
   "execution_count": null,
   "metadata": {},
   "outputs": [],
   "source": []
  },
  {
   "cell_type": "code",
   "execution_count": 22,
   "metadata": {},
   "outputs": [],
   "source": [
    "#deletion of element from list using pop method\n",
    "#pop - used for temporary deletion  - this is a internal carbon copy of deleted item"
   ]
  },
  {
   "cell_type": "code",
   "execution_count": 24,
   "metadata": {},
   "outputs": [],
   "source": [
    "x=students.pop()"
   ]
  },
  {
   "cell_type": "code",
   "execution_count": 25,
   "metadata": {},
   "outputs": [
    {
     "name": "stdout",
     "output_type": "stream",
     "text": [
      "digamber\n"
     ]
    }
   ],
   "source": [
    "print(x)"
   ]
  },
  {
   "cell_type": "code",
   "execution_count": 26,
   "metadata": {},
   "outputs": [
    {
     "name": "stdout",
     "output_type": "stream",
     "text": [
      "prashanth\n"
     ]
    }
   ],
   "source": [
    "y=students.pop(2)\n",
    "print(y)"
   ]
  },
  {
   "cell_type": "code",
   "execution_count": null,
   "metadata": {},
   "outputs": [],
   "source": []
  },
  {
   "cell_type": "code",
   "execution_count": null,
   "metadata": {},
   "outputs": [],
   "source": []
  }
 ],
 "metadata": {
  "kernelspec": {
   "display_name": "Python 3",
   "language": "python",
   "name": "python3"
  },
  "language_info": {
   "codemirror_mode": {
    "name": "ipython",
    "version": 3
   },
   "file_extension": ".py",
   "mimetype": "text/x-python",
   "name": "python",
   "nbconvert_exporter": "python",
   "pygments_lexer": "ipython3",
   "version": "3.7.6"
  }
 },
 "nbformat": 4,
 "nbformat_minor": 4
}
